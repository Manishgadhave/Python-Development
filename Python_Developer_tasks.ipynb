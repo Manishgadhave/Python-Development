{
  "nbformat": 4,
  "nbformat_minor": 0,
  "metadata": {
    "colab": {
      "provenance": [],
      "authorship_tag": "ABX9TyM2fCA+ZDpXdiW41LUyTfCi",
      "include_colab_link": true
    },
    "kernelspec": {
      "name": "python3",
      "display_name": "Python 3"
    },
    "language_info": {
      "name": "python"
    }
  },
  "cells": [
    {
      "cell_type": "markdown",
      "metadata": {
        "id": "view-in-github",
        "colab_type": "text"
      },
      "source": [
        "<a href=\"https://colab.research.google.com/github/Manishgadhave/Python-Development/blob/main/Python_Developer_tasks.ipynb\" target=\"_parent\"><img src=\"https://colab.research.google.com/assets/colab-badge.svg\" alt=\"Open In Colab\"/></a>"
      ]
    },
    {
      "cell_type": "markdown",
      "source": [
        "1. Write a Python function that takes a list of records, where each record is a dictionary containing the name of a city and various types of weather data (e.g., temperature, humidity). The function should aggregate this data to provide insights such as the average temperature and humidity for each city. However, each record may not contain all types of data. The solution should gracefully handle missing data."
      ],
      "metadata": {
        "id": "arSR4mV8WZOS"
      }
    },
    {
      "cell_type": "code",
      "execution_count": 1,
      "metadata": {
        "id": "_3jgQbw4V1Qc"
      },
      "outputs": [],
      "source": [
        "def aggregate_weather_data(records):\n",
        "  #dict to store aggregate data for each city\n",
        "  city_data = {}\n",
        "\n",
        "  #iterate through each record\n",
        "  for record in records:\n",
        "    city = record.get('city')\n",
        "    temperature = record.get('temperature')\n",
        "    humidity = record.get('humidity')\n",
        "\n",
        "    if city not in city_data:\n",
        "      city_data[city] = {\n",
        "          'temperature_sum': 0,\n",
        "          'temperature_count': 0,\n",
        "          'humidity_sum': 0,\n",
        "          'humidity_count': 0\n",
        "      }\n",
        "\n",
        "    #Add temperature to aggregate if present\n",
        "    if temperature is not None:\n",
        "      city_data[city]['temperature_sum'] += temperature\n",
        "      city_data[city]['temperature_count'] += 1\n",
        "\n",
        "    #Add humidity to aggregate if present\n",
        "    if humidity is not None:\n",
        "      city_data[city]['humidity_sum'] += humidity\n",
        "      city_data[city]['humidity_count'] += 1\n",
        "\n",
        "    #generate summary of averages\n",
        "    city_averages = {}\n",
        "    for city, data in city_data.items():\n",
        "      avg_temp = (data['temperature_sum'] / data['temperature_count']\n",
        "                  if data ['temperature_count'] > 0 else None)\n",
        "      avg_humidity = (data['humidity_sum'] / data['humidity_count']\n",
        "                      if data ['humidity_count'] > 0 else None)\n",
        "\n",
        "      city_averages[city] = {\n",
        "          'average_temperature': avg_temp,\n",
        "          'average_humidity': avg_humidity\n",
        "      }\n",
        "\n",
        "    return city_averages"
      ]
    },
    {
      "cell_type": "code",
      "source": [
        "weather_records = [\n",
        "    {'city': 'New York', 'temperature': 22, 'humidity': 60},\n",
        "    {'city': 'Los Angeles', 'temperature': 26},\n",
        "    {'city': 'New York', 'humidity': 55},\n",
        "    {'city': 'Chicago', 'temperature': 18, 'humidity': 65},\n",
        "    {'city': 'Los Angeles', 'humidity': 50},\n",
        "    {'city': 'Chicago', 'temperature': 20}\n",
        "]"
      ],
      "metadata": {
        "id": "LGzlaqWPaIwg"
      },
      "execution_count": 2,
      "outputs": []
    },
    {
      "cell_type": "code",
      "source": [
        "aggregated_data = aggregate_weather_data(weather_records)\n",
        "print(aggregated_data)"
      ],
      "metadata": {
        "colab": {
          "base_uri": "https://localhost:8080/"
        },
        "id": "LzVNcNncanHG",
        "outputId": "efca1d09-92d3-482c-c946-44dcb9d22e72"
      },
      "execution_count": 3,
      "outputs": [
        {
          "output_type": "stream",
          "name": "stdout",
          "text": [
            "{'New York': {'average_temperature': 22.0, 'average_humidity': 60.0}}\n"
          ]
        }
      ]
    },
    {
      "cell_type": "markdown",
      "source": [
        "2. Write a Python function to perform prime factorization of a given integer. The function should return a list of tuples, where each tuple contains a prime factor and its corresponding exponent. For example, given the integer 60, the function should return [(2, 2), (3, 1), (5, 1)] since 60 = 2^2 * 3^1 * 5^1."
      ],
      "metadata": {
        "id": "rb70Ot2cb5lc"
      }
    },
    {
      "cell_type": "code",
      "source": [
        "def prime_factorization(n):\n",
        "  factors = []\n",
        "  divisor = 2\n",
        "\n",
        "  while n > 3:\n",
        "    count = 0\n",
        "\n",
        "    #count how many times n is divisible by the current divisor\n",
        "    while n % divisor == 0:\n",
        "      n //= divisor\n",
        "      count += 1\n",
        "\n",
        "    # if the divisor divides n at least once, add it to the list of factors\n",
        "    if count > 0:\n",
        "      factors.append((divisor, count))\n",
        "\n",
        "    #move to the next possible divisor\n",
        "    divisor += 1\n",
        "\n",
        "  return factors"
      ],
      "metadata": {
        "id": "aad3mDtHat9u"
      },
      "execution_count": 4,
      "outputs": []
    },
    {
      "cell_type": "code",
      "source": [
        "# Example usage\n",
        "n = 60\n",
        "result = prime_factorization(n)\n",
        "print(result)"
      ],
      "metadata": {
        "colab": {
          "base_uri": "https://localhost:8080/"
        },
        "id": "P4Iu8Dx3eQKk",
        "outputId": "aad75371-0426-45cf-e60b-54b19e347244"
      },
      "execution_count": 5,
      "outputs": [
        {
          "output_type": "stream",
          "name": "stdout",
          "text": [
            "[(2, 2), (3, 1), (5, 1)]\n"
          ]
        }
      ]
    },
    {
      "cell_type": "markdown",
      "source": [
        "Scenario: A table named products contains columns id, name, and price.\n",
        "Task: Write a SQL query to increase the price of all products by 10% and display the new prices along with the product names."
      ],
      "metadata": {
        "id": "TGDXm_8nevBc"
      }
    },
    {
      "cell_type": "code",
      "source": [
        "SELECT name, price * 1.10 AS new_price\n",
        "FROM products;"
      ],
      "metadata": {
        "id": "AMh4-ZW8eTZ0"
      },
      "execution_count": null,
      "outputs": []
    }
  ]
}